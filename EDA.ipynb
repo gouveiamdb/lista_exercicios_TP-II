{
 "cells": [
  {
   "cell_type": "code",
   "execution_count": 1,
   "metadata": {},
   "outputs": [],
   "source": [
    "import pandas as pd"
   ]
  },
  {
   "cell_type": "code",
   "execution_count": 3,
   "metadata": {},
   "outputs": [],
   "source": [
    "profile = pd.read_excel('datasets/alunos/profiles.xlsx')"
   ]
  },
  {
   "cell_type": "code",
   "execution_count": 7,
   "metadata": {},
   "outputs": [
    {
     "data": {
      "text/html": [
       "<div>\n",
       "<style scoped>\n",
       "    .dataframe tbody tr th:only-of-type {\n",
       "        vertical-align: middle;\n",
       "    }\n",
       "\n",
       "    .dataframe tbody tr th {\n",
       "        vertical-align: top;\n",
       "    }\n",
       "\n",
       "    .dataframe thead th {\n",
       "        text-align: right;\n",
       "    }\n",
       "</style>\n",
       "<table border=\"1\" class=\"dataframe\">\n",
       "  <thead>\n",
       "    <tr style=\"text-align: right;\">\n",
       "      <th></th>\n",
       "      <th>NOME:</th>\n",
       "      <th>IDADE</th>\n",
       "      <th>REGIAO RESIDÊNCIA</th>\n",
       "      <th>FORMAÇÃO ACADÊMICA:</th>\n",
       "      <th>JÁ UTILIZOU GIT?</th>\n",
       "      <th>JÁ UTILIZOU PANDAS?</th>\n",
       "      <th>JÁ UTILIZOU NUMPY?</th>\n",
       "    </tr>\n",
       "  </thead>\n",
       "  <tbody>\n",
       "    <tr>\n",
       "      <th>0</th>\n",
       "      <td>939065eece719c2e24382f347e0395ab9aa3f4933249c3...</td>\n",
       "      <td>&lt;30</td>\n",
       "      <td>Sul/Sudeste</td>\n",
       "      <td>NaN</td>\n",
       "      <td>NÃO</td>\n",
       "      <td>NÃO</td>\n",
       "      <td>NÃO</td>\n",
       "    </tr>\n",
       "    <tr>\n",
       "      <th>1</th>\n",
       "      <td>f5e39c38b5d7ae57a67a4e533d1c3fbadcbddae039868a...</td>\n",
       "      <td>&lt;30</td>\n",
       "      <td>Sul/Sudeste</td>\n",
       "      <td>Ciências Exatas</td>\n",
       "      <td>SIM</td>\n",
       "      <td>NÃO</td>\n",
       "      <td>NÃO</td>\n",
       "    </tr>\n",
       "    <tr>\n",
       "      <th>2</th>\n",
       "      <td>365bea1e0e58d1dd2124f6156f41cf26bde7babc74cbea...</td>\n",
       "      <td>&lt;30</td>\n",
       "      <td>Nordeste</td>\n",
       "      <td>Ciências Exatas</td>\n",
       "      <td>NÃO</td>\n",
       "      <td>SIM</td>\n",
       "      <td>SIM</td>\n",
       "    </tr>\n",
       "    <tr>\n",
       "      <th>3</th>\n",
       "      <td>d59df35ac8cca9741c7d14751827a93372178571f12e72...</td>\n",
       "      <td>&gt;=30 e &lt;=40</td>\n",
       "      <td>Sul/Sudeste</td>\n",
       "      <td>Ciências Exatas</td>\n",
       "      <td>SIM</td>\n",
       "      <td>NÃO</td>\n",
       "      <td>NÃO</td>\n",
       "    </tr>\n",
       "    <tr>\n",
       "      <th>4</th>\n",
       "      <td>9e5ef9fc98988ed88abae4dcc91ea7b05672e5ea261b5b...</td>\n",
       "      <td>&lt;30</td>\n",
       "      <td>Sul/Sudeste</td>\n",
       "      <td>Ciências Exatas</td>\n",
       "      <td>NÃO</td>\n",
       "      <td>SIM</td>\n",
       "      <td>SIM</td>\n",
       "    </tr>\n",
       "  </tbody>\n",
       "</table>\n",
       "</div>"
      ],
      "text/plain": [
       "                                               NOME:        IDADE  \\\n",
       "0  939065eece719c2e24382f347e0395ab9aa3f4933249c3...          <30   \n",
       "1  f5e39c38b5d7ae57a67a4e533d1c3fbadcbddae039868a...          <30   \n",
       "2  365bea1e0e58d1dd2124f6156f41cf26bde7babc74cbea...          <30   \n",
       "3  d59df35ac8cca9741c7d14751827a93372178571f12e72...  >=30 e <=40   \n",
       "4  9e5ef9fc98988ed88abae4dcc91ea7b05672e5ea261b5b...          <30   \n",
       "\n",
       "  REGIAO RESIDÊNCIA FORMAÇÃO ACADÊMICA: JÁ UTILIZOU GIT? JÁ UTILIZOU PANDAS?  \\\n",
       "0       Sul/Sudeste                 NaN              NÃO                 NÃO   \n",
       "1       Sul/Sudeste     Ciências Exatas              SIM                 NÃO   \n",
       "2          Nordeste     Ciências Exatas              NÃO                 SIM   \n",
       "3       Sul/Sudeste     Ciências Exatas              SIM                 NÃO   \n",
       "4       Sul/Sudeste     Ciências Exatas              NÃO                 SIM   \n",
       "\n",
       "  JÁ UTILIZOU NUMPY?  \n",
       "0                NÃO  \n",
       "1                NÃO  \n",
       "2                SIM  \n",
       "3                NÃO  \n",
       "4                SIM  "
      ]
     },
     "execution_count": 7,
     "metadata": {},
     "output_type": "execute_result"
    }
   ],
   "source": [
    "profile.head()"
   ]
  },
  {
   "cell_type": "code",
   "execution_count": 30,
   "metadata": {},
   "outputs": [],
   "source": [
    "import os\n",
    "\n",
    "def carrega_pasta_csv(path:str) -> pd.DataFrame:\n",
    "    \"\"\"\n",
    "    Carrega todos os arquivos CSV de uma pasta e retorna um DataFrame consolidado.\n",
    "    Parâmetros:\n",
    "    path (str): O caminho da pasta contendo os arquivos CSV.\n",
    "    Retorna:\n",
    "    pd.DataFrame: Um DataFrame consolidado contendo os dados de todos os arquivos CSV da pasta.\n",
    "    Exemplo:\n",
    "    >>> carrega_pasta_csv('/caminho/para/pasta')\n",
    "    Retorna um DataFrame consolidado com os dados dos arquivos CSV da pasta especificada.\n",
    "    \"\"\"\n",
    "\n",
    "    dados_aulas = []\n",
    "\n",
    "    for file in os.listdir(path):\n",
    "        if file.endswith('.csv'):\n",
    "            df = pd.read_csv(os.path.join(path, file))\n",
    "            df['data'] = file.split('_')[-1].split('.')[0]\n",
    "            dados_aulas.append(df)\n",
    "\n",
    "    dados_aulas = pd.concat(dados_aulas)\n",
    "    return dados_aulas.reset_index(drop=True)"
   ]
  },
  {
   "cell_type": "markdown",
   "metadata": {},
   "source": [
    "'03:10:20' => 3h10min20s ==> xxxmin\n",
    "\n"
   ]
  },
  {
   "cell_type": "code",
   "execution_count": 45,
   "metadata": {},
   "outputs": [],
   "source": [
    "str = '03:10:20'"
   ]
  },
  {
   "cell_type": "code",
   "execution_count": 50,
   "metadata": {},
   "outputs": [
    {
     "name": "stdout",
     "output_type": "stream",
     "text": [
      "190.33333333333334\n"
     ]
    }
   ],
   "source": [
    "#%%timeit\n",
    "\n",
    "from datetime import datetime\n",
    "\n",
    "time_obj = datetime.strptime(str, '%H:%M:%S')\n",
    "minutes = time_obj.hour * 60 + time_obj.minute +time_obj.second/60\n",
    "print(minutes)"
   ]
  },
  {
   "cell_type": "code",
   "execution_count": 51,
   "metadata": {},
   "outputs": [
    {
     "name": "stdout",
     "output_type": "stream",
     "text": [
      "190.33333333333334\n"
     ]
    }
   ],
   "source": [
    "#%%timeit\n",
    "print(sum([int(x[0])*x[1] for x in zip(str.split(':'), [60, 1, 1/60])]))\n"
   ]
  },
  {
   "cell_type": "code",
   "execution_count": 31,
   "metadata": {},
   "outputs": [],
   "source": [
    "dados_aulas = carrega_pasta_csv(path = os.path.join('datasets', 'alunos'))"
   ]
  },
  {
   "cell_type": "code",
   "execution_count": 33,
   "metadata": {},
   "outputs": [
    {
     "name": "stdout",
     "output_type": "stream",
     "text": [
      "<class 'pandas.core.frame.DataFrame'>\n",
      "RangeIndex: 105 entries, 0 to 104\n",
      "Data columns (total 10 columns):\n",
      " #   Column           Non-Null Count  Dtype \n",
      "---  ------           --------------  ----- \n",
      " 0   Participant      105 non-null    object\n",
      " 1   Attendance time  105 non-null    object\n",
      " 2   Camera time      105 non-null    object\n",
      " 3   Mic time         105 non-null    object\n",
      " 4   Time speaking    105 non-null    object\n",
      " 5   Time presenting  105 non-null    object\n",
      " 6   Hands raised     105 non-null    int64 \n",
      " 7   Emojis sent      105 non-null    int64 \n",
      " 8   Messages sent    105 non-null    int64 \n",
      " 9   data             105 non-null    object\n",
      "dtypes: int64(3), object(7)\n",
      "memory usage: 8.3+ KB\n"
     ]
    }
   ],
   "source": [
    "dados_aulas.info()"
   ]
  }
 ],
 "metadata": {
  "kernelspec": {
   "display_name": "aula",
   "language": "python",
   "name": "python3"
  },
  "language_info": {
   "codemirror_mode": {
    "name": "ipython",
    "version": 3
   },
   "file_extension": ".py",
   "mimetype": "text/x-python",
   "name": "python",
   "nbconvert_exporter": "python",
   "pygments_lexer": "ipython3",
   "version": "3.11.9"
  }
 },
 "nbformat": 4,
 "nbformat_minor": 2
}
